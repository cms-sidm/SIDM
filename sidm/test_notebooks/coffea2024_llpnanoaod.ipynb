{
 "cells": [
  {
   "cell_type": "markdown",
   "id": "38475bbc-ebe8-409a-9bdb-165695f00d1b",
   "metadata": {},
   "source": [
    "Simple notebook to test out coffea2024 and llpnanoaod"
   ]
  },
  {
   "cell_type": "code",
   "execution_count": 1,
   "id": "9a6d08ba-8e9f-465b-a8e4-a244cd22a681",
   "metadata": {
    "tags": []
   },
   "outputs": [],
   "source": [
    "import awkward as ak\n",
    "import dask_awkward as dak\n",
    "import hist.dask as hda\n",
    "from coffea.nanoevents import NanoEventsFactory"
   ]
  },
  {
   "cell_type": "code",
   "execution_count": 2,
   "id": "bd6469fe-faf8-4740-9848-fa0c6d2b9b66",
   "metadata": {
    "tags": []
   },
   "outputs": [
    {
     "data": {
      "text/html": [
       "<div>\n",
       "    <div style=\"width: 24px; height: 24px; background-color: #e1e1e1; border: 3px solid #9D9D9D; border-radius: 5px; position: absolute;\"> </div>\n",
       "    <div style=\"margin-left: 48px;\">\n",
       "        <h3 style=\"margin-bottom: 0px;\">Client</h3>\n",
       "        <p style=\"color: #9D9D9D; margin-bottom: 0px;\">Client-b1a54110-db61-11ee-88f4-f6328c02d387</p>\n",
       "        <table style=\"width: 100%; text-align: left;\">\n",
       "\n",
       "        <tr>\n",
       "        \n",
       "            <td style=\"text-align: left;\"><strong>Connection method:</strong> Direct</td>\n",
       "            <td style=\"text-align: left;\"></td>\n",
       "        \n",
       "        </tr>\n",
       "\n",
       "        \n",
       "            <tr>\n",
       "                <td style=\"text-align: left;\">\n",
       "                    <strong>Dashboard: </strong> <a href=\"/user/bryan.cardwell@cern.ch/proxy/8787/status\" target=\"_blank\">/user/bryan.cardwell@cern.ch/proxy/8787/status</a>\n",
       "                </td>\n",
       "                <td style=\"text-align: left;\"></td>\n",
       "            </tr>\n",
       "        \n",
       "\n",
       "        </table>\n",
       "\n",
       "        \n",
       "            <button style=\"margin-bottom: 12px;\" data-commandlinker-command=\"dask:populate-and-launch-layout\" data-commandlinker-args='{\"url\": \"/user/bryan.cardwell@cern.ch/proxy/8787/status\" }'>\n",
       "                Launch dashboard in JupyterLab\n",
       "            </button>\n",
       "        \n",
       "\n",
       "        \n",
       "            <details>\n",
       "            <summary style=\"margin-bottom: 20px;\"><h3 style=\"display: inline;\">Scheduler Info</h3></summary>\n",
       "            <div style=\"\">\n",
       "    <div>\n",
       "        <div style=\"width: 24px; height: 24px; background-color: #FFF7E5; border: 3px solid #FF6132; border-radius: 5px; position: absolute;\"> </div>\n",
       "        <div style=\"margin-left: 48px;\">\n",
       "            <h3 style=\"margin-bottom: 0px;\">Scheduler</h3>\n",
       "            <p style=\"color: #9D9D9D; margin-bottom: 0px;\">Scheduler-58868e74-1177-4971-bfe5-3a5a832af08e</p>\n",
       "            <table style=\"width: 100%; text-align: left;\">\n",
       "                <tr>\n",
       "                    <td style=\"text-align: left;\">\n",
       "                        <strong>Comm:</strong> tls://192.168.204.75:8786\n",
       "                    </td>\n",
       "                    <td style=\"text-align: left;\">\n",
       "                        <strong>Workers:</strong> 0\n",
       "                    </td>\n",
       "                </tr>\n",
       "                <tr>\n",
       "                    <td style=\"text-align: left;\">\n",
       "                        <strong>Dashboard:</strong> <a href=\"/user/bryan.cardwell@cern.ch/proxy/8787/status\" target=\"_blank\">/user/bryan.cardwell@cern.ch/proxy/8787/status</a>\n",
       "                    </td>\n",
       "                    <td style=\"text-align: left;\">\n",
       "                        <strong>Total threads:</strong> 0\n",
       "                    </td>\n",
       "                </tr>\n",
       "                <tr>\n",
       "                    <td style=\"text-align: left;\">\n",
       "                        <strong>Started:</strong> 4 hours ago\n",
       "                    </td>\n",
       "                    <td style=\"text-align: left;\">\n",
       "                        <strong>Total memory:</strong> 0 B\n",
       "                    </td>\n",
       "                </tr>\n",
       "            </table>\n",
       "        </div>\n",
       "    </div>\n",
       "\n",
       "    <details style=\"margin-left: 48px;\">\n",
       "        <summary style=\"margin-bottom: 20px;\">\n",
       "            <h3 style=\"display: inline;\">Workers</h3>\n",
       "        </summary>\n",
       "\n",
       "        \n",
       "\n",
       "    </details>\n",
       "</div>\n",
       "            </details>\n",
       "        \n",
       "\n",
       "    </div>\n",
       "</div>"
      ],
      "text/plain": [
       "<Client: 'tls://192.168.204.75:8786' processes=0 threads=0, memory=0 B>"
      ]
     },
     "execution_count": 2,
     "metadata": {},
     "output_type": "execute_result"
    }
   ],
   "source": [
    "from dask.distributed import Client\n",
    "\n",
    "client = Client(\"tls://192.168.204.75:8786\")\n",
    "#client.upload_file(\"/home/cms-jovyan/SIDM/local_data/tta_mAlp-0p35GeV_ctau-1e3mm_part-0.root\")\n",
    "client"
   ]
  },
  {
   "cell_type": "code",
   "execution_count": 3,
   "id": "43aa9c59-6694-46d3-a50d-d2a5caf3ca23",
   "metadata": {
    "tags": []
   },
   "outputs": [
    {
     "name": "stderr",
     "output_type": "stream",
     "text": [
      "/usr/local/lib/python3.10/site-packages/coffea/nanoevents/methods/candidate.py:11: FutureWarning: In version 2024.7.0 (target date: 2024-06-30 11:59:59-05:00), this will be an error.\n",
      "To raise these warnings as errors (and get stack traces to find out where they're called), run\n",
      "    import warnings\n",
      "    warnings.filterwarnings(\"error\", module=\"coffea.*\")\n",
      "after the first `import coffea` or use `@pytest.mark.filterwarnings(\"error:::coffea.*\")` in pytest.\n",
      "Issue: coffea.nanoevents.methods.vector will be removed and replaced with scikit-hep vector. Nanoevents schemas internal to coffea will be migrated. Otherwise please consider using that package!.\n",
      "  from coffea.nanoevents.methods import vector\n",
      "/usr/local/lib/python3.10/site-packages/coffea/nanoevents/schemas/nanoaod.py:243: RuntimeWarning: Missing cross-reference index for FatJet_genJetAK8Idx => GenJetAK8\n",
      "  warnings.warn(\n"
     ]
    }
   ],
   "source": [
    "events = NanoEventsFactory.from_root(\n",
    "    #\"~/local_data/tta_mAlp-0p35GeV_ctau-1e3mm_part-0.root:Events\",\n",
    "    \"https://raw.githubusercontent.com/CoffeaTeam/coffea/master/tests/samples/nano_dy.root:Events\",\n",
    "    metadata={\"dataset\": \"tta_mAlp-0p35GeV_ctau-1e3mm\"}\n",
    ").events()"
   ]
  },
  {
   "cell_type": "code",
   "execution_count": 4,
   "id": "dc4efe93-640f-4347-8e79-3a4f92e61c00",
   "metadata": {
    "tags": []
   },
   "outputs": [
    {
     "data": {
      "text/plain": [
       "dask.awkward<from-uproot, npartitions=1>"
      ]
     },
     "execution_count": 4,
     "metadata": {},
     "output_type": "execute_result"
    }
   ],
   "source": [
    "events"
   ]
  },
  {
   "cell_type": "code",
   "execution_count": 5,
   "id": "6882f56a-0ba2-4fea-9c9f-5d1bc4e63081",
   "metadata": {
    "tags": []
   },
   "outputs": [
    {
     "data": {
      "text/plain": [
       "['fixedGridRhoFastjetAll',\n",
       " 'LHEWeight',\n",
       " 'Tau',\n",
       " 'SoftActivityJetHT',\n",
       " 'Pileup',\n",
       " 'luminosityBlock',\n",
       " 'SoftActivityJetNjets10',\n",
       " 'CorrT1METJet',\n",
       " 'TrigObj',\n",
       " 'TkMET',\n",
       " 'LHEScaleWeight',\n",
       " 'OtherPV',\n",
       " 'LHE',\n",
       " 'btagWeight',\n",
       " 'HLTriggerFirstPath',\n",
       " 'LHEReweightingWeight',\n",
       " 'ChsMET',\n",
       " 'SV',\n",
       " 'L1',\n",
       " 'SoftActivityJetNjets5',\n",
       " 'SoftActivityJet',\n",
       " 'SubGenJetAK8',\n",
       " 'GenJetAK8',\n",
       " 'run',\n",
       " 'fixedGridRhoFastjetCentralNeutral',\n",
       " 'fixedGridRhoFastjetCentralChargedPileUp',\n",
       " 'PSWeight',\n",
       " 'Muon',\n",
       " 'FsrPhoton',\n",
       " 'GenVisTau',\n",
       " 'GenJet',\n",
       " 'genWeight',\n",
       " 'LHEPdfWeight',\n",
       " 'PV',\n",
       " 'fixedGridRhoFastjetCentralCalo',\n",
       " 'GenDressedLepton',\n",
       " 'Photon',\n",
       " 'Generator',\n",
       " 'GenMET',\n",
       " 'L1Reco',\n",
       " 'fixedGridRhoFastjetCentral',\n",
       " 'SoftActivityJetHT10',\n",
       " 'event',\n",
       " 'GenPart',\n",
       " 'HLTriggerFinalPath',\n",
       " 'SoftActivityJetHT5',\n",
       " 'LHEPart',\n",
       " 'MET',\n",
       " 'SoftActivityJetNjets2',\n",
       " 'IsoTrack',\n",
       " 'CaloMET',\n",
       " 'PuppiMET',\n",
       " 'SubJet',\n",
       " 'RawMET',\n",
       " 'L1simulation',\n",
       " 'Electron',\n",
       " 'genTtbarId',\n",
       " 'SoftActivityJetHT2',\n",
       " 'FatJet',\n",
       " 'Jet',\n",
       " 'HLT',\n",
       " 'HTXS',\n",
       " 'Flag']"
      ]
     },
     "execution_count": 5,
     "metadata": {},
     "output_type": "execute_result"
    }
   ],
   "source": [
    "dak.fields(events)"
   ]
  },
  {
   "cell_type": "code",
   "execution_count": 6,
   "id": "76eeb6da-5911-4f0a-88e6-ed875955a132",
   "metadata": {
    "tags": []
   },
   "outputs": [
    {
     "data": {
      "text/plain": [
       "{'from-uproot-abd813fb204492d1fc714dbc7704bc4c': frozenset({'Muon_pt',\n",
       "            'nMuon'})}"
      ]
     },
     "execution_count": 6,
     "metadata": {},
     "output_type": "execute_result"
    },
    {
     "data": {
      "image/png": "[encoded data removed]",
      "text/plain": [
       "<Figure size 640x480 with 1 Axes>"
      ]
     },
     "metadata": {},
     "output_type": "display_data"
    }
   ],
   "source": [
    "h_mu_pt = (\n",
    "    hda.Hist.new.Reg(100, 0, 200, name=\"mu_pt\", label=\"Muon $p_{T}$ [GeV]\")\n",
    "    .Weight()\n",
    "    .fill(dak.flatten(events.Muon.pt))\n",
    ")\n",
    "\n",
    "h_mu_pt.compute().plot1d()\n",
    "dak.necessary_columns(h_mu_pt)"
   ]
  },
  {
   "cell_type": "code",
   "execution_count": null,
   "id": "3de428d8-739a-457f-8406-dd8f1dc8dd5b",
   "metadata": {},
   "outputs": [],
   "source": []
  }
 ],
 "metadata": {
  "kernelspec": {
   "display_name": "Python 3 (ipykernel)",
   "language": "python",
   "name": "python3"
  },
  "language_info": {
   "codemirror_mode": {
    "name": "ipython",
    "version": 3
   },
   "file_extension": ".py",
   "mimetype": "text/x-python",
   "name": "python",
   "nbconvert_exporter": "python",
   "pygments_lexer": "ipython3",
   "version": "3.10.12"
  }
 },
 "nbformat": 4,
 "nbformat_minor": 5
}
